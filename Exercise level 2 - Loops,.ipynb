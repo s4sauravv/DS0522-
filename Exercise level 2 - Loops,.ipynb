{
 "cells": [
  {
   "cell_type": "code",
   "execution_count": 149,
   "id": "a5d9cc1d",
   "metadata": {},
   "outputs": [],
   "source": [
    "#Basic Exercise level2\n",
    "#Loops"
   ]
  },
  {
   "cell_type": "code",
   "execution_count": 1,
   "id": "acfeb833",
   "metadata": {},
   "outputs": [],
   "source": [
    "# Question 1-Exercise 1: Print First 10 natural numbers using while loop.\n"
   ]
  },
  {
   "cell_type": "code",
   "execution_count": 2,
   "id": "8d45faa2",
   "metadata": {},
   "outputs": [
    {
     "name": "stdout",
     "output_type": "stream",
     "text": [
      "0\n",
      "1\n",
      "2\n",
      "3\n",
      "4\n",
      "5\n",
      "6\n",
      "7\n",
      "8\n",
      "9\n",
      "10\n"
     ]
    }
   ],
   "source": [
    "i=0\n",
    "while i<=10:\n",
    "    print(i)\n",
    "    i=i+1"
   ]
  },
  {
   "cell_type": "code",
   "execution_count": 3,
   "id": "63e11385",
   "metadata": {},
   "outputs": [],
   "source": [
    "#Question2 - Exercise 2: Print the following pattern\n",
    "#                * \n",
    "#                * *  \n",
    "#                * * * \n"
   ]
  },
  {
   "cell_type": "code",
   "execution_count": 5,
   "id": "ae571a28",
   "metadata": {},
   "outputs": [
    {
     "name": "stdout",
     "output_type": "stream",
     "text": [
      "*\n",
      "**\n",
      "***\n"
     ]
    }
   ],
   "source": [
    "n=3\n",
    "for i in range(1,n+1):\n",
    "    print(\"*\" * i)"
   ]
  },
  {
   "cell_type": "code",
   "execution_count": 6,
   "id": "222897ff",
   "metadata": {},
   "outputs": [],
   "source": [
    "# Exercise 3: Calculate the sum of all numbers from 1 to a given number."
   ]
  },
  {
   "cell_type": "code",
   "execution_count": 9,
   "id": "06e0a012",
   "metadata": {},
   "outputs": [
    {
     "name": "stdout",
     "output_type": "stream",
     "text": [
      "Enter an number5\n",
      "15\n"
     ]
    }
   ],
   "source": [
    "num=int(input(\"Enter an number\"))\n",
    "\n",
    "count=0\n",
    "i=1\n",
    "while i<=num:\n",
    "    count=count+i\n",
    "    i=i+1\n",
    "print(count)    "
   ]
  },
  {
   "cell_type": "code",
   "execution_count": 10,
   "id": "90d2fe93",
   "metadata": {},
   "outputs": [],
   "source": [
    "#Exercise 4: Write a program to print multiplication table of a given number.\n"
   ]
  },
  {
   "cell_type": "code",
   "execution_count": 13,
   "id": "60c8f528",
   "metadata": {},
   "outputs": [
    {
     "name": "stdout",
     "output_type": "stream",
     "text": [
      "Enter a number5\n",
      "5X1=5\n",
      "5X2=10\n",
      "5X3=15\n",
      "5X4=20\n",
      "5X5=25\n",
      "5X6=30\n",
      "5X7=35\n",
      "5X8=40\n",
      "5X9=45\n",
      "5X10=50\n"
     ]
    }
   ],
   "source": [
    "num=int(input(\"Enter a number\"))\n",
    "for i in range(1,11):\n",
    "    print(f\"{num}X{i}={num*i}\")"
   ]
  },
  {
   "cell_type": "code",
   "execution_count": 15,
   "id": "392c8b7f",
   "metadata": {},
   "outputs": [],
   "source": [
    "#Exercise 5: Display numbers from a list using loop\n",
    "#Write a program to display only those numbers from a list that satisfy the following conditions\n",
    "#numbers = [12, 75, 150, 180, 145, 525, 50]\n",
    "#The number must be divisible by five\n",
    "#If the number is greater than 150, then skip it and move to the next number\n",
    "#If the number is greater than 500, then stop the loop"
   ]
  },
  {
   "cell_type": "code",
   "execution_count": 23,
   "id": "3bd69ef7",
   "metadata": {},
   "outputs": [
    {
     "name": "stdout",
     "output_type": "stream",
     "text": [
      "75\n",
      "150\n",
      "145\n"
     ]
    }
   ],
   "source": [
    "num = [12, 75, 150, 180, 145, 525, 50]\n",
    "for i in num:\n",
    "    if i>500:\n",
    "        break\n",
    "    elif i>150:\n",
    "        continue\n",
    "    elif i%5==0:\n",
    "        print(i)\n",
    "        "
   ]
  },
  {
   "cell_type": "code",
   "execution_count": 24,
   "id": "17eb1b0e",
   "metadata": {},
   "outputs": [],
   "source": [
    "#Exercise 6: Count the total number of digits in a number\n",
    "#Write a program to count the total number of digits in a number using a while loop.\n",
    "\n",
    "#For example, the number is 75869, so the output should be 5."
   ]
  },
  {
   "cell_type": "code",
   "execution_count": 25,
   "id": "9f4fb5bc",
   "metadata": {},
   "outputs": [
    {
     "name": "stdout",
     "output_type": "stream",
     "text": [
      "5\n"
     ]
    }
   ],
   "source": [
    "num=75869\n",
    "count=0\n",
    "while num!=0:\n",
    "    num=num//10\n",
    "    count=count+1\n",
    "print(count)    "
   ]
  },
  {
   "cell_type": "code",
   "execution_count": 26,
   "id": "96afb2b4",
   "metadata": {},
   "outputs": [],
   "source": [
    "#Exercise 7: Print the following pattern\n",
    "#            ***\n",
    "#            **\n",
    "#            *"
   ]
  },
  {
   "cell_type": "code",
   "execution_count": 28,
   "id": "aa31b21f",
   "metadata": {},
   "outputs": [
    {
     "name": "stdout",
     "output_type": "stream",
     "text": [
      "***\n",
      "**\n",
      "*\n"
     ]
    }
   ],
   "source": [
    "num=3\n",
    "for i in range(num,0,-1):\n",
    "    print(\"*\" * i)"
   ]
  },
  {
   "cell_type": "code",
   "execution_count": 29,
   "id": "5a2bdde6",
   "metadata": {},
   "outputs": [],
   "source": [
    "#Exercise 8: Print list in reverse order using a loop\n",
    "#Given:\n",
    "#list1 = [10, 20, 30, 40, 50]"
   ]
  },
  {
   "cell_type": "code",
   "execution_count": 48,
   "id": "786b339d",
   "metadata": {},
   "outputs": [
    {
     "name": "stdout",
     "output_type": "stream",
     "text": [
      "50\n",
      "40\n",
      "30\n",
      "20\n",
      "10\n"
     ]
    }
   ],
   "source": [
    "lst = [10, 20, 30, 40, 50]\n",
    "size=len(lst)-1\n",
    "for i in range(size,-1,-1):\n",
    "    print(lst[i])"
   ]
  },
  {
   "cell_type": "code",
   "execution_count": 56,
   "id": "ef427ff7",
   "metadata": {},
   "outputs": [
    {
     "name": "stdout",
     "output_type": "stream",
     "text": [
      "50\n",
      "40\n",
      "30\n",
      "20\n",
      "10\n"
     ]
    }
   ],
   "source": [
    "#second way\n",
    "lst = [10, 20, 30, 40, 50]\n",
    "size=reversed(lst)\n",
    "for i in size:\n",
    "    print(i)"
   ]
  },
  {
   "cell_type": "code",
   "execution_count": 58,
   "id": "63aebe8d",
   "metadata": {},
   "outputs": [],
   "source": [
    "#Exercise 9: Display numbers from -10 to -1 using for loop\n",
    "#           -10\n",
    "#           -9\n",
    "#           -8\n",
    "#           -7\n",
    "#           -6\n",
    "#           -5\n",
    "#           -4\n",
    "#           -3\n",
    "#           -2\n",
    "#           -1"
   ]
  },
  {
   "cell_type": "code",
   "execution_count": 74,
   "id": "b9d959b0",
   "metadata": {},
   "outputs": [
    {
     "name": "stdout",
     "output_type": "stream",
     "text": [
      "-10\n",
      "-9\n",
      "-8\n",
      "-7\n",
      "-6\n",
      "-5\n",
      "-4\n",
      "-3\n",
      "-2\n",
      "-1\n"
     ]
    }
   ],
   "source": [
    "for i in range(-10,0,1):\n",
    "    print(i)"
   ]
  },
  {
   "cell_type": "code",
   "execution_count": 75,
   "id": "33bd2e74",
   "metadata": {},
   "outputs": [],
   "source": [
    "#Exercise 10: Use else block to display a message “Done” after successful execution of for loop"
   ]
  },
  {
   "cell_type": "code",
   "execution_count": 79,
   "id": "1abc2723",
   "metadata": {},
   "outputs": [
    {
     "name": "stdout",
     "output_type": "stream",
     "text": [
      "Saurav is hero 1 Times, Remember Ex.\n",
      "Saurav is hero 2 Times, Remember Ex.\n",
      "Saurav is hero 3 Times, Remember Ex.\n",
      "Saurav is hero 4 Times, Remember Ex.\n",
      "Saurav is hero 5 Times, Remember Ex.\n",
      "Done\n"
     ]
    }
   ],
   "source": [
    "for i in range(1,6,1):\n",
    "    print(\"Saurav is hero\",i,\"Times, Remember Ex.\")\n",
    "else:\n",
    "    print(\"Done\")"
   ]
  },
  {
   "cell_type": "code",
   "execution_count": 80,
   "id": "ba0591ac",
   "metadata": {},
   "outputs": [],
   "source": [
    "#Exercise 11: Write a program to display all prime numbers within a range\n",
    "#Note: A Prime Number is a number that cannot be made by multiplying other whole numbers. A prime number is a natural number greater than 1 that is not a product of two smaller natural numbers\n",
    "\n",
    "#Examples:\n",
    "\n",
    "#6 is not a prime mumber because it can be made by 2×3 = 6\n",
    "#37 is a prime number because no other whole numbers multiply together to make it.\n",
    "#Given:\n",
    "\n",
    "# range\n",
    "#start = 25\n",
    "#end = 50"
   ]
  },
  {
   "cell_type": "code",
   "execution_count": 83,
   "id": "d11bf523",
   "metadata": {},
   "outputs": [
    {
     "name": "stdout",
     "output_type": "stream",
     "text": [
      "25\n",
      "27\n",
      "29\n",
      "31\n",
      "33\n",
      "35\n",
      "37\n",
      "39\n",
      "41\n",
      "43\n",
      "45\n",
      "47\n",
      "49"
     ]
    }
   ],
   "source": [
    "start = 25\n",
    "end = 50\n",
    "for i in range(start,end):\n",
    "    if i%2!=0:\n",
    "        print(i,end=\"\")\n",
    "    else:\n",
    "        print()"
   ]
  },
  {
   "cell_type": "code",
   "execution_count": 84,
   "id": "ce713f42",
   "metadata": {},
   "outputs": [],
   "source": [
    "#Exercise 13: Find the factorial of a given number\n",
    "#Write a program to use the loop to find the factorial of a given number.\n",
    "#\n",
    "#The factorial (symbol: !) means to multiply all whole numbers from the chosen number down to 1.\n",
    "#\n",
    "#For example: calculate the factorial of 5\n",
    "#\n",
    "#5! = 5 × 4 × 3 × 2 × 1 = 120"
   ]
  },
  {
   "cell_type": "code",
   "execution_count": 119,
   "id": "420e7312",
   "metadata": {},
   "outputs": [
    {
     "name": "stdout",
     "output_type": "stream",
     "text": [
      "The Factorial of 5is 120\n"
     ]
    }
   ],
   "source": [
    "num=5\n",
    "factorial=1\n",
    "for i in range(1,num+1):\n",
    "    factorial=factorial*i\n",
    "print(f\"The Factorial of {num}is {factorial}\")    \n"
   ]
  },
  {
   "cell_type": "code",
   "execution_count": 130,
   "id": "df855c78",
   "metadata": {},
   "outputs": [],
   "source": [
    "#Exercise 14: Exercise 15: Use a loop to display elements from a given list present at odd index positions\n",
    "#my_list = [10, 20, 30, 40, 50, 60, 70, 80, 90, 100]\n",
    "\n"
   ]
  },
  {
   "cell_type": "code",
   "execution_count": 136,
   "id": "1f08b348",
   "metadata": {},
   "outputs": [
    {
     "name": "stdout",
     "output_type": "stream",
     "text": [
      "20\n",
      "40\n",
      "60\n",
      "80\n",
      "100\n"
     ]
    }
   ],
   "source": [
    "my_list = [10, 20, 30, 40, 50, 60, 70, 80, 90, 100]\n",
    "for i in my_list[1::2]:\n",
    "    print(i)\n"
   ]
  },
  {
   "cell_type": "code",
   "execution_count": 137,
   "id": "7baab071",
   "metadata": {},
   "outputs": [],
   "source": [
    "#Exercise 16: Calculate the cube of all numbers from 1 to a given number\n",
    "#Write a program to rint the cube of all numbers from 1 to a given number\n",
    "#\n",
    "#Given:\n",
    "#\n",
    "#input_number = 6"
   ]
  },
  {
   "cell_type": "code",
   "execution_count": 141,
   "id": "aff2f35f",
   "metadata": {},
   "outputs": [
    {
     "name": "stdout",
     "output_type": "stream",
     "text": [
      "Cube of 6is1\n",
      "Cube of 6is8\n",
      "Cube of 6is27\n",
      "Cube of 6is64\n",
      "Cube of 6is125\n",
      "Cube of 6is216\n"
     ]
    }
   ],
   "source": [
    "num=6\n",
    "for i in range(1,num+1):\n",
    "    print(f\"Cube of {num}is{i*i*i}\")"
   ]
  },
  {
   "cell_type": "code",
   "execution_count": 142,
   "id": "6d66cf61",
   "metadata": {},
   "outputs": [],
   "source": [
    "#Exercise 17: Find the sum of the series upto n terms\n",
    "#Write a program to calculate the sum of series up to n term. For example, if n =5 the series will become 2 + 22 + 222 + 2222 + 22222 = 24690\n",
    "#\n",
    "#Given:\n",
    "#\n",
    "# number of terms\n",
    "#n = 5"
   ]
  },
  {
   "cell_type": "code",
   "execution_count": 7,
   "id": "e6dbb8a6",
   "metadata": {},
   "outputs": [],
   "source": [
    "#Please create a function and initialize two variables inside the \n",
    "#function, one with the value 0 and the other with the variable 2 and then\n",
    "# use a for loop on the range you want the terms.\n",
    "#then update the first value with sum of first value and second value and \n",
    "#multiply the second value with 10 and then add 2 in second value and then \n",
    "#return the first value.\n"
   ]
  },
  {
   "cell_type": "code",
   "execution_count": 25,
   "id": "a0a577dc",
   "metadata": {},
   "outputs": [
    {
     "name": "stdout",
     "output_type": "stream",
     "text": [
      "2 22 222 2222 22222 \n",
      " 24690\n"
     ]
    }
   ],
   "source": [
    "n=5\n",
    "first_value=0\n",
    "second_value=2\n",
    "for i in range(0,n):\n",
    "    print(second_value,end=\" \")\n",
    "    first_value=first_value+second_value\n",
    "    second_value=second_value*10+2\n",
    "print(\"\\n\",first_value)    "
   ]
  },
  {
   "cell_type": "code",
   "execution_count": null,
   "id": "af9df9f3",
   "metadata": {},
   "outputs": [],
   "source": []
  },
  {
   "cell_type": "code",
   "execution_count": null,
   "id": "9fa9d2da",
   "metadata": {},
   "outputs": [],
   "source": [
    "#Exercise 14: Reverse a given integer number\n",
    "#Given:\n",
    "#76542\n",
    "#Expected output:\n",
    "#24567"
   ]
  },
  {
   "cell_type": "code",
   "execution_count": 148,
   "id": "c864ff2b",
   "metadata": {},
   "outputs": [
    {
     "name": "stdout",
     "output_type": "stream",
     "text": [
      "24567\n"
     ]
    }
   ],
   "source": [
    "num=76542\n",
    "print(str(num)[::-1])\n",
    "#This is a wrong way\n",
    "#I also dont know how its work."
   ]
  },
  {
   "cell_type": "code",
   "execution_count": 31,
   "id": "2e4acdf0",
   "metadata": {},
   "outputs": [
    {
     "data": {
      "text/plain": [
       "int"
      ]
     },
     "execution_count": 31,
     "metadata": {},
     "output_type": "execute_result"
    }
   ],
   "source": [
    "num=78965\n",
    "A=str(num)[::-1]\n",
    "B=int(A)\n",
    "type(B)"
   ]
  },
  {
   "cell_type": "code",
   "execution_count": null,
   "id": "58a328de",
   "metadata": {},
   "outputs": [],
   "source": []
  },
  {
   "cell_type": "code",
   "execution_count": null,
   "id": "3a8ae376",
   "metadata": {},
   "outputs": [],
   "source": []
  }
 ],
 "metadata": {
  "kernelspec": {
   "display_name": "Python 3 (ipykernel)",
   "language": "python",
   "name": "python3"
  },
  "language_info": {
   "codemirror_mode": {
    "name": "ipython",
    "version": 3
   },
   "file_extension": ".py",
   "mimetype": "text/x-python",
   "name": "python",
   "nbconvert_exporter": "python",
   "pygments_lexer": "ipython3",
   "version": "3.9.12"
  }
 },
 "nbformat": 4,
 "nbformat_minor": 5
}
